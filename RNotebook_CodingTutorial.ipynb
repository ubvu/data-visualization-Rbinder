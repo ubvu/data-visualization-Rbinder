{
  "metadata": {
    "kernelspec": {
      "name": "python",
      "display_name": "Python (Pyodide)",
      "language": "python"
    },
    "language_info": {
      "name": ""
    }
  },
  "nbformat_minor": 5,
  "nbformat": 4,
  "cells": [
    {
      "id": "42a14256-91c8-446e-92a7-ab6bf11055d3",
      "cell_type": "markdown",
      "source": "Graphical Forms of Data Charts\n\nIn this tutorial, we will provide coding examples of 7 of the most\ncommonly used plots in scientific research, highlighting their strengths\nand interpretation. We will be using two different datasets obtained\nfrom Neuroscience projects, which we’ll describe next.\n\nThe Filter and Fire Dataset\n(https://www.kaggle.com/datasets/selfishgene/fiter-and-fire-paper) is\npart of a project whose aim is to explain the functional implications\nbehind the multiple synaptic contacts that have been observed between a\ncortical neuron and the dendrites of it’s post-synaptic target. Here,\nBeniaguev et al. propose a ‘Filter and Fire Neuron Model’ (F&F), which,\nin contrast to the long-stablished ‘Integrate and Fire Neuron Model’\n(I&F), it incorporates spatio-temporal information obtained from\nmultiple synaptic contacts. To compare the efficacy of the different\nmodels, they tested the ‘memory capacity’ of the neurons by implementing\na modified MNIST task where each model is trained to emit\nprecisely-timed output spikes for a random input pattern, in this case,\nhandwritten digits (add image).\n\nRead Filter and Fire dataset",
      "metadata": {}
    },
    {
      "id": "45dc7972-6173-4556-a829-e4d1717495f5",
      "cell_type": "code",
      "source": "library(tidyverse)\nlibrary(RColorBrewer)\nFilterFiredata<-read.csv(\"FilterandFireData.csv\")\nhead(FilterFiredata)",
      "metadata": {
        "trusted": true
      },
      "outputs": [],
      "execution_count": null
    },
    {
      "id": "6b8f0262-da6b-45e3-bf46-8fa36cc6e58b",
      "cell_type": "markdown",
      "source": "\nBar Plot\n",
      "metadata": {}
    },
    {
      "id": "f2508bc4-71bc-4a71-ab62-38e3c5ca0fb7",
      "cell_type": "code",
      "source": "ggplot(FilterFiredata,aes(x=as.factor(digit), y=Accuracy.FF, fill = as.factor(digit)))+ geom_bar(stat = \"identity\", position = \"identity\")+ \nlabs(x=\"Digit\", y=\"Accuracy FF\") + coord_cartesian(ylim = c(88,98)) + guides(fill=\"none\")",
      "metadata": {
        "trusted": true
      },
      "outputs": [],
      "execution_count": null
    },
    {
      "id": "9ae740ff-92a8-4257-8fba-4a47a20a10d1",
      "cell_type": "markdown",
      "source": "\nBox Plot\n",
      "metadata": {}
    },
    {
      "id": "d5621713-45c2-41f1-b8cd-5b04cbabd4df",
      "cell_type": "code",
      "source": "ggplot(FilterFiredata, aes(x=as.factor(digit), y=Accuracy.FF, fill = as.factor(digit))) +geom_boxplot() + labs(x=\"Digit\", y=\"Accuracy FF\") + guides(fill=\"none\")",
      "metadata": {
        "trusted": true
      },
      "outputs": [],
      "execution_count": null
    },
    {
      "id": "37ed0ec6-69f3-4ef9-a020-e52be2d29992",
      "cell_type": "markdown",
      "source": "\nHistogram\n",
      "metadata": {}
    },
    {
      "id": "38ad4a3f-318d-40ed-8afe-21ca2f6d31b6",
      "cell_type": "code",
      "source": "FilterFiredata_digit9<-subset(FilterFiredata, digit==9)\nggplot(FilterFiredata_digit9, aes(x=Accuracy.FF)) + geom_histogram(color=\"black\",fill=\"deeppink\",binwidth = 0.2)",
      "metadata": {
        "trusted": true
      },
      "outputs": [],
      "execution_count": null
    },
    {
      "id": "5874d563-4ced-4257-b569-57c755a1b5e1",
      "cell_type": "markdown",
      "source": "\nViolin Plot\n",
      "metadata": {}
    },
    {
      "id": "485abe5e-3471-4b08-be9f-d1cdc9ac546a",
      "cell_type": "code",
      "source": "ggplot(FilterFiredata, aes(x=as.factor(digit), y = Accuracy.FF, fill = as.factor(digit))) + geom_violin() + labs(x=\"Digit\", y=\"Accuracy FF\") + guides(fill=\"none\") ",
      "metadata": {
        "trusted": true
      },
      "outputs": [],
      "execution_count": null
    },
    {
      "id": "42bb84a3-6e6b-4960-b1a5-8f1494c6d0b0",
      "cell_type": "markdown",
      "source": "\nRead Expression Analysis Dataset\n",
      "metadata": {}
    },
    {
      "id": "51562d5d-fb12-4c96-abb9-0ebb773315d9",
      "cell_type": "code",
      "source": "expressiondata<-read.table(\"ExpressionData.txt\",header = T, row.names = 1)",
      "metadata": {
        "trusted": true
      },
      "outputs": [],
      "execution_count": null
    },
    {
      "id": "bf36c5d2-a005-408f-8c2f-969029995c4c",
      "cell_type": "markdown",
      "source": "\nHeatmap\n",
      "metadata": {}
    },
    {
      "id": "c2fe4844-4bd3-479f-9034-507ab2bfabf0",
      "cell_type": "code",
      "source": "heatmap(as.matrix(expressiondata),Colv = NA, Rowv = NA, scale=\"row\", col=rev(brewer.pal(n = 11, name =\"RdYlBu\")))",
      "metadata": {
        "trusted": true
      },
      "outputs": [],
      "execution_count": null
    },
    {
      "id": "4e963ccb-8ca7-457f-a4d6-1d3ed22d44a1",
      "cell_type": "markdown",
      "source": "\nScatterplot\n",
      "metadata": {}
    },
    {
      "id": "3a09fd8d-cf57-438b-98ca-e9bacaf74bf6",
      "cell_type": "code",
      "source": "ggplot(expressiondata, aes(x=NAc1, y = NAc4)) + geom_point(color=\"blue\",stat = \"identity\", position = \"identity\")",
      "metadata": {
        "trusted": true
      },
      "outputs": [],
      "execution_count": null
    }
  ]
}
