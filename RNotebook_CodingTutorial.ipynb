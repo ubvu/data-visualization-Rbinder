{
  "metadata": {
    "kernelspec": {
      "name": "python",
      "display_name": "Python (Pyodide)",
      "language": "python"
    },
    "language_info": {
      "codemirror_mode": {
        "name": "python",
        "version": 3
      },
      "file_extension": ".py",
      "mimetype": "text/x-python",
      "name": "python",
      "nbconvert_exporter": "python",
      "pygments_lexer": "ipython3",
      "version": "3.8"
    }
  },
  "nbformat_minor": 5,
  "nbformat": 4,
  "cells": [
    {
      "id": "2220ca06-4bbb-4e32-9d57-969fe96f2f3c",
      "cell_type": "markdown",
      "source": "### General instructions.\n\nIn this interactive tutorial, you can run each one of the cells by either clicking the ‘play’ button or by pressing ‘Shift + Enter’. You can make changes to the code as well.\n\n# Graphical Forms of Data Charts: Dataset 1\n\n## Filter and Fire dataset\n\nRead and observe the Filter and Fire dataset in R:",
      "metadata": {}
    },
    {
      "id": "eeabc198-14b1-4e75-afce-2b7866b06764",
      "cell_type": "code",
      "source": "FilterFiredata<-read.csv(\"FilterandFireData.csv\") #read the dataset from the file\nhead(FilterFiredata) #observe the first 6 rows of the table",
      "metadata": {
        "trusted": true
      },
      "outputs": [
        {
          "ename": "<class 'NameError'>",
          "evalue": "name 'FilterFiredata' is not defined",
          "traceback": [
            "\u001b[0;31m---------------------------------------------------------------------------\u001b[0m",
            "\u001b[0;31mNameError\u001b[0m                                 Traceback (most recent call last)",
            "Cell \u001b[0;32mIn[1], line 1\u001b[0m\n\u001b[0;32m----> 1\u001b[0m \u001b[43mFilterFiredata\u001b[49m\u001b[38;5;241m<\u001b[39m\u001b[38;5;241m-\u001b[39mread\u001b[38;5;241m.\u001b[39mcsv(\u001b[38;5;124m\"\u001b[39m\u001b[38;5;124mFilterandFireData.csv\u001b[39m\u001b[38;5;124m\"\u001b[39m) \u001b[38;5;66;03m#read the dataset from the file\u001b[39;00m\n\u001b[1;32m      2\u001b[0m head(FilterFiredata) \u001b[38;5;66;03m#observe the first 6 rows of the table\u001b[39;00m\n",
            "\u001b[0;31mNameError\u001b[0m: name 'FilterFiredata' is not defined"
          ],
          "output_type": "error"
        }
      ],
      "execution_count": 1
    },
    {
      "id": "1f3effab-6613-412e-9ce9-580abbf5a0f6",
      "cell_type": "markdown",
      "source": "One of the greatest tools to make graphs in R is using the ggplot library. \n\\\nFirst we need to load the packages we will be using:",
      "metadata": {}
    },
    {
      "id": "5977f974-e703-495e-9f41-9724a2da61be",
      "cell_type": "code",
      "source": "library(tidyverse)\nlibrary(RColorBrewer)\nlibrary(reshape2)",
      "metadata": {
        "trusted": true
      },
      "outputs": [],
      "execution_count": null
    },
    {
      "id": "f067d7c3-9663-41d0-af9b-93288ee18ba4",
      "cell_type": "markdown",
      "source": "## Barplot\nWe can now start by observing the Baseline Accuracy displayed by neurons\nfor the detection of each handwritten digit by making a Bar plot.",
      "metadata": {}
    },
    {
      "id": "632c1be0-d69e-4c6f-82c5-38bf88ba904b",
      "cell_type": "code",
      "source": "ggplot(FilterFiredata,aes(x=as.factor(digit), y=Accuracy.baseline))+ geom_bar(stat = \"identity\", position = \"identity\")",
      "metadata": {
        "trusted": true
      },
      "outputs": [],
      "execution_count": null
    },
    {
      "id": "6d55f86b-245d-4a14-aa0e-61d7355f7f0c",
      "cell_type": "markdown",
      "source": "In this case, we’ve had to add the *as.factor()* command into the column\n*‘digit’* so each bar represents one of the digits tested in this task.\n\\\nFactors are categorical data types, and the *as.factor()* command converts\nthe numerical values on the *‘digit’* column into categories. \n* Exercise: What happens to the plot if we remove the *as.factor()* command?\n\nAs you can see, this is the simpliest form of a plot. We can make it easier to visualize by adding color and changing the y axix values:",
      "metadata": {}
    },
    {
      "id": "77411a8d-59c4-4927-90dc-618a22516b94",
      "cell_type": "code",
      "source": "ggplot(FilterFiredata,aes(x=as.factor(digit), y=Accuracy.FF, fill = as.factor(digit)))+ geom_bar(stat = \"identity\", position = \"identity\") + labs(x=\"Digit\", y=\"Accuracy Baseline\") + coord_cartesian(ylim = c(88,100)) + guides(fill=\"none\") ",
      "metadata": {
        "trusted": true
      },
      "outputs": [],
      "execution_count": null
    },
    {
      "id": "967fec87-c68f-45eb-80b6-5d3ccc671a89",
      "cell_type": "markdown",
      "source": "You can change the color of the entire plot manually by using color names\nor color code. You can also change the color depending on the\ncomposition of the plot, for example, here we gave a different\ncolor to each one of the digits by adding *fill =\nas.factor(digit)*.\n\\\nHere you can find more color palletes already included in R:\nhttps://www.nceas.ucsb.edu/sites/default/files/2020-04/colorPaletteCheatsheet.pdf\n\nThe y axis values were changed with *coord_cartesian()*\n\n* Excercise: Change the color / color pallette of this plot",
      "metadata": {}
    },
    {
      "id": "6e67c9d8-dc24-4df8-91ee-166e0ad18285",
      "cell_type": "markdown",
      "source": "## Box Plot",
      "metadata": {}
    },
    {
      "id": "0ede7d50-610a-451f-91b8-f39164ff1d26",
      "cell_type": "code",
      "source": "ggplot(FilterFiredata, aes(x=as.factor(digit), y=Accuracy.FF, fill = as.factor(digit))) + geom_boxplot() + labs(x=\"Digit\", y=\"Accuracy after F&F model training\") + guides(fill=\"none\")",
      "metadata": {
        "trusted": true
      },
      "outputs": [],
      "execution_count": null
    },
    {
      "id": "3f98236b-3c1a-4550-94b8-55463160062c",
      "cell_type": "markdown",
      "source": "The *+ guides(fill=“none”)* command indicates there is no need to add a\ncolor code on this graph, as it doesn’t add any more information. It is possible to color-code the plot by a different variable.\n\n* Exercise: Change the coloring of the plot by the release.probability\nvariable (as a factor). What extra information is this plot now\nproviding?",
      "metadata": {}
    },
    {
      "id": "60cd5098-6de3-4f45-98eb-85b243293a51",
      "cell_type": "markdown",
      "source": "## Violin Plot\n\nAs you can observe, the same data can be visualized in different ways:",
      "metadata": {}
    },
    {
      "id": "f037f00c-b3f5-411f-98a5-2967435be23a",
      "cell_type": "code",
      "source": "ggplot(FilterFiredata, aes(x=as.factor(digit), y = Accuracy.FF, fill = as.factor(digit))) + geom_violin() + labs(x=\"Digit\", y=\"Accuracy after F&F model training\") + guides(fill=\"none\") ",
      "metadata": {
        "trusted": true
      },
      "outputs": [],
      "execution_count": null
    },
    {
      "id": "a182be69-b510-4364-81a6-f7724f660263",
      "cell_type": "markdown",
      "source": "## Histogram\nWe will now plot an histogram but only for the values that were trained with the **digit 9**",
      "metadata": {}
    },
    {
      "id": "7903f4d2-d8a4-47a9-98f0-a04f057f7c1a",
      "cell_type": "code",
      "source": "FilterFiredata_digit9<-subset(FilterFiredata, digit==9) #Subsetting the data corresponding only to digit 9\nggplot(FilterFiredata_digit9, aes(x=Accuracy.FF)) + geom_histogram(color=\"black\",fill=\"deeppink\",binwidth = 0.2) + labs(x=\"Accuracy after F&F model training\", y=\"Frequency\")",
      "metadata": {
        "trusted": true
      },
      "outputs": [],
      "execution_count": null
    },
    {
      "id": "e7df373e-7091-4076-bf86-4056f99ac400",
      "cell_type": "markdown",
      "source": "In histograms, bins define the division of the histogram into bars. The\n*binwidth* element in ggplot determines the size of each bin.\n\n* Exercise: Change the binwidth value for a larger or smaller one. How\ndoes that affect the histogram representation?",
      "metadata": {}
    },
    {
      "id": "46796a38-9bf8-44b2-a430-7acfbf79106c",
      "cell_type": "markdown",
      "source": "# Graphical Forms of Data Charts: Dataset 2\n\n## Brain region-specific Gene Expression\n\nRead and observe the Brain region-specific Gene Expression data in R",
      "metadata": {}
    },
    {
      "id": "4a68e2d6-40a4-4e08-b3d5-345d444acc24",
      "cell_type": "code",
      "source": "expressiondata<-read.table(\"ExpressionData.txt\",header = T, row.names = 1) #read the dataset from the file",
      "metadata": {
        "trusted": true
      },
      "outputs": [],
      "execution_count": null
    },
    {
      "id": "ea05944d-8916-4ec4-ab61-0ccee0a26607",
      "cell_type": "markdown",
      "source": "## Heatmap",
      "metadata": {}
    },
    {
      "id": "636c49a2-5b20-498e-89ae-d8e9af57a4cf",
      "cell_type": "code",
      "source": "heatmap(as.matrix(expressiondata),Colv = NA, Rowv = NA, scale=\"row\", col=rev(brewer.pal(n = 11, name =\"RdYlBu\")))",
      "metadata": {
        "trusted": true
      },
      "outputs": [],
      "execution_count": null
    },
    {
      "id": "7b35225d-6f95-4d1b-b34b-aa65f075e45a",
      "cell_type": "markdown",
      "source": "The heatmap function requires a *matrix* as input, but our\n‘expressiondata’ object is a *list*. These are two different data types,\nbut we can use the *as.matrix* function to convert our list into a matrix.",
      "metadata": {}
    },
    {
      "id": "8f65835a-6408-489b-9266-3e95ead0230e",
      "cell_type": "markdown",
      "source": "## Scatter plot",
      "metadata": {}
    },
    {
      "id": "5fa25684-d2c5-44f7-9677-6b904f78c747",
      "cell_type": "code",
      "source": "ggplot(expressiondata, aes(x=NAc1, y = NAc4)) + geom_point(color=\"blue\",stat = \"identity\", position = \"identity\")",
      "metadata": {
        "trusted": true
      },
      "outputs": [],
      "execution_count": null
    },
    {
      "id": "cbdb41bf-cc7c-433f-939c-fce3f3da7d31",
      "cell_type": "markdown",
      "source": "As we have plotted the same brain region of two different samples\n(Nucleus Accumbens or rat1 and rat4), we can see both of them are highly\ncorrelated with each other.\n\n* Exercise: Plot now the NAc expression data against of that of the DG of\nthe same sample.\n\\\nWhat is the dispersionlike? Is the\nexpression between the two brain regions correlated with each other? Is\nit what you expected?",
      "metadata": {}
    },
    {
      "id": "db3f2d42-4705-422d-bd23-8fa8c488633a",
      "cell_type": "markdown",
      "source": "## Line plot",
      "metadata": {}
    },
    {
      "id": "33770c20-c6ee-4338-8ca1-e8dae9f0be3f",
      "cell_type": "code",
      "source": "expressiondata$GeneNames <- rownames(expressiondata) #add a column with the rownames (Gene names) to the expression data\nGenes <- group_by(expressiondata, GeneNames) #group the data per Gene, so we can plot them\nggplot(melt(Genes))+ geom_line(aes(x = variable, y = value, col = GeneNames, group = GeneNames)) + guides(col=\"none\")+ labs(x=\"Samples\", y=\"Gene Expression\")",
      "metadata": {
        "trusted": true
      },
      "outputs": [],
      "execution_count": null
    },
    {
      "id": "42a14256-91c8-446e-92a7-ab6bf11055d3",
      "cell_type": "markdown",
      "source": "Here, the *melt* function was required to convert the data of the gene\nexpression data into a single matrix. This extra step was needed in R\nas we intended to plot the gene expression data of every\nsample, but usually the geom_line() can be used to plot a line between\ntwo valiables(columns).\n\n* Excercise: Using the code from the scatterplot above, try to visualize\nit like a line plot instead, i.e. make a lineplot using the a brain\nregion column in the x axis and another brain region in the y axis.",
      "metadata": {}
    },
    {
      "id": "ea1df00f-e37b-439e-9761-67eb067bcf44",
      "cell_type": "markdown",
      "source": "### Advanced excercises.\nIf you'd like to have an extra challenge, we suggest you to download the original datasets. You can then try to replicate the plots from the research papers. \n* Filter and Fire original Dataset: https://www.kaggle.com/datasets/selfishgene/fiter-and-fire-paper\n* Brain region-specific expression data original Dataset (Fig1d.Region_sepcific_expressed_Gene_cpm_Zscore.txt file): https://figshare.com/projects/Methamphetamine-induced_region-specific_transcriptomic_and_epigenetic_changes_in_the_brain_of_male_rats/177378",
      "metadata": {}
    }
  ]
}